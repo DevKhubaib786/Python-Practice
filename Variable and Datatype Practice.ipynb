{
 "cells": [
  {
   "cell_type": "code",
   "execution_count": null,
   "id": "17596bce",
   "metadata": {},
   "outputs": [
    {
     "name": "stdout",
     "output_type": "stream",
     "text": [
      "num1 12 <class 'int'>\n",
      "num2 13 <class 'int'>\n",
      "num3 0 <class 'int'>\n"
     ]
    }
   ],
   "source": [
    "#Integer\n",
    "num1=12;\n",
    "num2=13;\n",
    "num3=0;\n",
    "print(\"num1\",num1,type(num1))\n",
    "print(\"num2\",num2,type(num2))\n",
    "print(\"num3\",num3,type(num3))"
   ]
  },
  {
   "cell_type": "code",
   "execution_count": 18,
   "id": "5ee19368",
   "metadata": {},
   "outputs": [
    {
     "name": "stdout",
     "output_type": "stream",
     "text": [
      "pi 3.14 <class 'float'>\n",
      "lowfloat -0.01 <class 'float'>\n"
     ]
    }
   ],
   "source": [
    "                     #Float\n",
    "pi=3.14\n",
    "lowfloat=-0.01;\n",
    "print(\"pi\",pi,type(pi))\n",
    "print(\"lowfloat\",lowfloat,type(lowfloat))\n"
   ]
  },
  {
   "cell_type": "code",
   "execution_count": 24,
   "id": "27021b4c",
   "metadata": {},
   "outputs": [
    {
     "name": "stdout",
     "output_type": "stream",
     "text": [
      "Value of Variable True <class 'bool'>\n",
      "Value of Variable False <class 'bool'>\n"
     ]
    }
   ],
   "source": [
    "#Bollean\n",
    "is_python_easy = True\n",
    "is_coffee = False\n",
    "\n",
    "print(\"Value of Variable\", is_python_easy, type(is_python_easy))\n",
    "print(\"Value of Variable\", is_coffee, type(is_coffee))\n"
   ]
  },
  {
   "cell_type": "code",
   "execution_count": 26,
   "id": "0e5bb3e2",
   "metadata": {},
   "outputs": [
    {
     "name": "stdout",
     "output_type": "stream",
     "text": [
      "emptylist []\n",
      "number [10, 20, 30, 40]\n",
      "Mixed_List [10, 'Muhammad', 1.234]\n",
      "First_Number 10\n",
      "Last_Number 40\n"
     ]
    }
   ],
   "source": [
    "empty=[]\n",
    "number=[10,20,30,40]\n",
    "Mixed_List=[10,\"Muhammad\",1.234]\n",
    "print(\"emptylist\",empty)\n",
    "print(\"number\",number)\n",
    "print(\"Mixed_List\",Mixed_List)\n",
    "\n",
    "first_Num=number[0]\n",
    "last_Number=number[3]\n",
    "print(\"First_Number\",first_Num)\n",
    "print(\"Last_Number\",last_Number)"
   ]
  },
  {
   "cell_type": "code",
   "execution_count": 17,
   "id": "ae3f10c2",
   "metadata": {},
   "outputs": [
    {
     "name": "stdout",
     "output_type": "stream",
     "text": [
      "fullname MuhammadKhubaib <class 'str'>\n",
      "Greeting Welcome <class 'str'>\n"
     ]
    }
   ],
   "source": [
    "#String\n",
    "firstname=  \"Muhammad\"\n",
    "lastname=\"Khubaib\"\n",
    "fullname=firstname+ \"\"+lastname #Muhammad Khubaib\n",
    "\n",
    "Greeting=\"Welcome\"\n",
    "print(\"fullname\",fullname,type(fullname))\n",
    "print(\"Greeting\",Greeting,type(Greeting))"
   ]
  },
  {
   "cell_type": "code",
   "execution_count": 31,
   "id": "e52d8fbe",
   "metadata": {},
   "outputs": [
    {
     "name": "stdout",
     "output_type": "stream",
     "text": [
      "[10, 20, 50, 50, 50, 50, 30, 40, 50, 50]\n",
      "[10, 20, 50, 50, 50, 50, 50, 30, 40, 50, 50]\n",
      "[10, 20, 50, 50, 50, 50, 50, 30, 40, 50]\n",
      "[10, 20, 50, 50, 50, 50, 50, 30, 50]\n",
      "[10, 20, 30, 40, 50, 50, 50, 30, 50]\n"
     ]
    }
   ],
   "source": [
    "#list add number\n",
    "number.append(50)\n",
    "print(number)\n",
    "number.insert(2,50)\n",
    "print(number)\n",
    "#list Remove Number\n",
    "number_remove=number.pop()\n",
    "print(number)\n",
    "number.remove(40)\n",
    "print(number)\n",
    "#update number List\n",
    "number[2]=30\n",
    "number[3]=40\n",
    "print(number)\n",
    "\n"
   ]
  },
  {
   "cell_type": "code",
   "execution_count": 38,
   "id": "3621aefe",
   "metadata": {},
   "outputs": [
    {
     "name": "stdout",
     "output_type": "stream",
     "text": [
      "Single_Element (1,)\n",
      "Number (1, 2, 3, 4, 5)\n",
      "Mixed_Element ('Khubaib', 3.14, 85, True)\n",
      "Sub_Element_Tuple (2, 3, 4, 5)\n"
     ]
    }
   ],
   "source": [
    "#Tuple\n",
    "Single_Element=(1,)\n",
    "Number=(1,2,3,4,5,)\n",
    "Mixed_Element=(\"Khubaib\",3.14,85,True,)\n",
    "print(\"Single_Element\",Single_Element)\n",
    "print(\"Number\",Number)\n",
    "print(\"Mixed_Element\",Mixed_Element)\n",
    "sub_tuple=Number[1:]\n",
    "print(\"Sub_Element_Tuple\",sub_tuple)"
   ]
  },
  {
   "cell_type": "code",
   "execution_count": null,
   "id": "0ea4dd3f",
   "metadata": {},
   "outputs": [
    {
     "name": "stdout",
     "output_type": "stream",
     "text": [
      "Empty: {}\n",
      "Person: {'name': 'Khubaib', 'Rollno': 45}\n",
      "Another: {'Country': 'London', 'City': 'UK'}\n",
      "Name: Khubaib\n",
      "Rollno: 45\n"
     ]
    }
   ],
   "source": [
    "#Creating Dictionaries\n",
    "empty_dict={}\n",
    "person_dic={\"name\":\"Khubaib\",\"Rollno\":45}\n",
    "another_dic={\"Country\":\"London\",\"City\":\"UK\"}\n",
    "print(\"Empty:\",empty_dict)\n",
    "print(\"Person:\",person_dic)\n",
    "print(\"Another:\",another_dic)\n",
    "\n",
    "print(\"Name:\", person_dic[\"name\"])\n",
    "print(\"Rollno:\", person_dic.get(\"Rollno\"))\n",
    "#Adding\n",
    "person_dic[\"City\"]=Mailsi\n"
   ]
  },
  {
   "cell_type": "code",
   "execution_count": null,
   "id": "4a2585f9",
   "metadata": {},
   "outputs": [],
   "source": [
    "Set\n",
    "empty_Set=set()\n",
    "number_set={1,2,3,4,5};\n",
    "print(\"Number\",number_set)\n",
    "number_set.add(6)\n",
    "number_set_Discard(1)\n",
    "print(\"Number\",number_set)\n",
    "#Operation on set\n",
    "set_A={1,2.3,4,5}\n",
    "Set_B={6,7,8,9,10,2}\n",
    "print(\"union\",set_A.union(set_B))\n",
    "print(\"Intersection\",set_A.intersection(set_B))\n",
    "print(\"Difference\",set_A.difference(set_B))\n",
    "print(\"Symmetric Difference\",set_A.symmetric_difference(set_B))\n",
    "\n",
    "\n"
   ]
  }
 ],
 "metadata": {
  "kernelspec": {
   "display_name": "Khubaib_env",
   "language": "python",
   "name": "python3"
  },
  "language_info": {
   "codemirror_mode": {
    "name": "ipython",
    "version": 3
   },
   "file_extension": ".py",
   "mimetype": "text/x-python",
   "name": "python",
   "nbconvert_exporter": "python",
   "pygments_lexer": "ipython3",
   "version": "3.10.18"
  }
 },
 "nbformat": 4,
 "nbformat_minor": 5
}
