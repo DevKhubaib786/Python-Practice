{
 "cells": [
  {
   "cell_type": "code",
   "execution_count": 1,
   "id": "665de011",
   "metadata": {},
   "outputs": [
    {
     "name": "stdout",
     "output_type": "stream",
     "text": [
      "\n",
      "--- Variable Values ---\n",
      "User_String: Khubaib\n",
      "User_Integer 23\n",
      "user_Float 3.14\n",
      "Bollean Input True\n",
      "Upetr_case_String KHUBAIB\n",
      "This is Odd value.\n",
      "Mutiply by 2 float Value 6.28\n"
     ]
    }
   ],
   "source": [
    "#Question 1: Variables and Data Types\n",
    "use_string=input(\"Enter the String:\")\n",
    "user_int=int(input(\"Enter the Integer Value:\"))\n",
    "user_float=float(input(\"Enter the float value\"))\n",
    "user_bool_input=input(\"Enter the boolean value:(True/False):\")\n",
    "user_bool = True if user_bool_input.strip().lower() == \"true\" else False\n",
    " \n",
    "print(\"\\n--- Variable Values ---\")\n",
    "print(\"User_String:\",use_string)\n",
    "print(\"User_Integer\",user_int)\n",
    "print(\"user_Float\",user_float)\n",
    "print(\"Bollean Input\",user_bool_input)\n",
    "\n",
    "#uper case String\n",
    "print(\"Upetr_case_String\",use_string.upper())\n",
    "\n",
    "# Check integer is Even or Odd\n",
    "\n",
    "if user_int % 2== 0:\n",
    "  print(\"This is Even Value.\")\n",
    "else:\n",
    "   print(\"This is Odd value.\")\n",
    "\n",
    "   #float Multiply by 2 and Print Result\n",
    "\n",
    "   print(\"Mutiply by 2 float Value\",user_float*2)\n"
   ]
  },
  {
   "cell_type": "code",
   "execution_count": null,
   "id": "a96bce96",
   "metadata": {},
   "outputs": [
    {
     "name": "stdout",
     "output_type": "stream",
     "text": [
      "First Number= 20.0\n",
      "Second Number 25.0\n",
      "Addition 45.0\n",
      "Substraction -5.0\n",
      "Multiplication 500.0\n",
      "Division: 0.8\n",
      "Modulus: 20.0\n",
      "Floor Division: 0.0\n",
      "Is first number greater than second? False\n",
      "Are both numbers equal? False\n",
      "\n",
      "--- Logical Operation ---\n",
      "Is first > second AND second < 10: False\n"
     ]
    }
   ],
   "source": [
    "num1=float(input(\"Enter the Fist Number\"))\n",
    "num2=float(input(\"Enter the Second Number\"))\n",
    "print(\"First Number=\",num1)\n",
    "print(\"Second Number\",num2)\n",
    "\n",
    "#Arithmetic\n",
    "print(\"Addition\",num1+num2)\n",
    "print(\"Substraction\",num1-num2)\n",
    "print(\"Multiplication\",num1*num2)\n",
    "\n",
    "if num2 != 0:\n",
    "    print(\"Division:\", num1 / num2)\n",
    "    print(\"Modulus:\", num1 % num2)\n",
    "    print(\"Floor Division:\", num1 // num2)\n",
    "else:\n",
    "    print(\"Cannot divide by zero.\")\n",
    "\n",
    "    print(\"\\n--- Comparison Operations ---\")\n",
    "print(\"Is first number greater than second?\", num1 > num2)\n",
    "print(\"Are both numbers equal?\", num1 == num2)\n",
    "\n",
    "print(\"\\n--- Logical Operation ---\")\n",
    "print(\"Is first > second AND second < 10:\", num1 > num2 and num2 < 10)"
   ]
  },
  {
   "cell_type": "code",
   "execution_count": null,
   "id": "5463295f",
   "metadata": {},
   "outputs": [],
   "source": [
    "# Accepting list of integers from the user\n",
    "input_list = input(\"Enter the list of integers separated by commas: \")\n",
    "\n",
    "# Splitting and converting to integers\n",
    "number = [int(x.strip()) for x in input_list.split(\",\")]\n",
    "\n",
    "print(\"\\n--- Loop Output ---\")\n",
    "\n",
    "# Looping through the list\n",
    "for num in number:\n",
    "    if num > 10:\n",
    "        continue  # Skip numbers greater than 10\n",
    "    if num == 20:\n",
    "        break     # Stop the loop if number is 20\n",
    "    print(\"Number:\", num)\n",
    "else:\n",
    "    # This only runs if the loop ends naturally (not broken)\n",
    "    print(\"Loop ended naturally.\")\n"
   ]
  }
 ],
 "metadata": {
  "kernelspec": {
   "display_name": "Khubaib_env",
   "language": "python",
   "name": "python3"
  },
  "language_info": {
   "codemirror_mode": {
    "name": "ipython",
    "version": 3
   },
   "file_extension": ".py",
   "mimetype": "text/x-python",
   "name": "python",
   "nbconvert_exporter": "python",
   "pygments_lexer": "ipython3",
   "version": "3.13.3"
  }
 },
 "nbformat": 4,
 "nbformat_minor": 5
}
