{
 "cells": [
  {
   "cell_type": "code",
   "execution_count": 3,
   "id": "0aa8cdc6",
   "metadata": {},
   "outputs": [
    {
     "name": "stdout",
     "output_type": "stream",
     "text": [
      "Value of x= 10\n",
      "Value of y= 5\n",
      "value of outside x= 10\n"
     ]
    }
   ],
   "source": [
    "#Local Variable Global Variable\n",
    "\n",
    "x=10\n",
    "def my_function():\n",
    "   y=5\n",
    "   print(\"Value of x=\",x)\n",
    "   print(\"Value of y=\",y)\n",
    "my_function()\n",
    "print(\"value of outside x=\",x)\n"
   ]
  },
  {
   "cell_type": "code",
   "execution_count": 4,
   "id": "9688eb75",
   "metadata": {},
   "outputs": [
    {
     "name": "stdout",
     "output_type": "stream",
     "text": [
      "Inside inner function = local\n",
      "Inside outer function = enclosing\n",
      "Outside all functions = global\n"
     ]
    }
   ],
   "source": [
    "# Global variable\n",
    "x = 'global'\n",
    "\n",
    "def outer_fun():\n",
    "    # Enclosing variable (only visible inside outer_fun and inner_fun)\n",
    "    x = 'enclosing'\n",
    "\n",
    "    def inner_fun():\n",
    "        # Local variable (only visible inside inner_fun)\n",
    "        x = 'local'\n",
    "        print(\"Inside inner function =\", x)  # Prints 'local'\n",
    "\n",
    "    inner_fun()\n",
    "    print(\"Inside outer function =\", x)  # Prints 'enclosing'\n",
    "\n",
    "# Function call\n",
    "outer_fun()\n",
    "\n",
    "# Outside all functions (global scope)\n",
    "print(\"Outside all functions =\", x)  # Prints 'global'\n"
   ]
  },
  {
   "cell_type": "code",
   "execution_count": 5,
   "id": "af25cd94",
   "metadata": {},
   "outputs": [
    {
     "name": "stdout",
     "output_type": "stream",
     "text": [
      "[4, 6, 8, 10]\n"
     ]
    }
   ],
   "source": [
    "#High oder Function Map\n",
    "def double(x):\n",
    "  return x*2\n",
    "numbers = [2,3,4,5]\n",
    "doubled = list(map(double,numbers))\n",
    "print(doubled)"
   ]
  },
  {
   "cell_type": "code",
   "execution_count": 6,
   "id": "45451957",
   "metadata": {},
   "outputs": [
    {
     "name": "stdout",
     "output_type": "stream",
     "text": [
      "[4, 6, 8]\n"
     ]
    }
   ],
   "source": [
    "#High oder Function FILTER\n",
    "def is_even(x):\n",
    "    return x%2==0\n",
    "numbers = [5,4,6,8,9]\n",
    "is_evend = list(filter(is_even,numbers))\n",
    "print(is_evend)"
   ]
  },
  {
   "cell_type": "code",
   "execution_count": 7,
   "id": "574e238c",
   "metadata": {},
   "outputs": [
    {
     "name": "stdout",
     "output_type": "stream",
     "text": [
      "300\n"
     ]
    }
   ],
   "source": [
    "#High oder Function Reduce\n",
    "from functools import reduce\n",
    "def multiply(x,y):\n",
    "    return x*y\n",
    "numbers=[5,6,10]\n",
    "multipliyed = reduce(multiply,numbers)\n",
    "print(multipliyed)"
   ]
  },
  {
   "cell_type": "code",
   "execution_count": 8,
   "id": "c960baab",
   "metadata": {},
   "outputs": [
    {
     "name": "stdout",
     "output_type": "stream",
     "text": [
      "[('Khubaib', 17), ('Ali', 27.19)]\n"
     ]
    }
   ],
   "source": [
    "#High oder Function ZIP\n",
    "name = ['Khubaib','Ali','Imran']\n",
    "age = [17,27.19]\n",
    "paired = list(zip(name,age))\n",
    "print(paired)"
   ]
  },
  {
   "cell_type": "code",
   "execution_count": 9,
   "id": "40fad5cd",
   "metadata": {},
   "outputs": [
    {
     "name": "stdout",
     "output_type": "stream",
     "text": [
      "1: APPLE\n",
      "2: Banana\n",
      "3: Watermelon\n"
     ]
    }
   ],
   "source": [
    "#High oder Function Enumerates\n",
    "fruits = ['APPLE', 'Banana', 'Watermelon']\n",
    "\n",
    "for index, fruit in enumerate(fruits, start=1):\n",
    "    print(f'{index}: {fruit}')\n"
   ]
  },
  {
   "cell_type": "code",
   "execution_count": 10,
   "id": "21543ac7",
   "metadata": {},
   "outputs": [
    {
     "name": "stdout",
     "output_type": "stream",
     "text": [
      "Incremented Counter Value: 1\n"
     ]
    }
   ],
   "source": [
    "\n",
    "# Global Variable\n",
    "Counter = 0\n",
    "\n",
    "def increment():\n",
    "    global Counter  # Declare that we want to use the global 'Counter'\n",
    "    Counter += 1    # Increment the global variable\n",
    "\n",
    "increment()\n",
    "print(\"Incremented Counter Value:\", Counter)\n"
   ]
  },
  {
   "cell_type": "code",
   "execution_count": 11,
   "id": "5550c75f",
   "metadata": {},
   "outputs": [
    {
     "name": "stdout",
     "output_type": "stream",
     "text": [
      "Before Run\n",
      "Hello\n",
      "After Run\n"
     ]
    }
   ],
   "source": [
    "# ✅ Step 1: Create a decorator\n",
    "def decorator(func):\n",
    "    def wrapper():\n",
    "        print(\"Before Run\")\n",
    "        func()\n",
    "        print(\"After Run\")\n",
    "    return wrapper  # ✅ Return the wrapper OUTSIDE the inner function\n",
    "\n",
    "# ✅ Step 2: Apply decorator to a function\n",
    "@decorator\n",
    "def say_hello():\n",
    "    print(\"Hello\")\n",
    "\n",
    "# ✅ Step 3: Call the decorated function\n",
    "say_hello()\n"
   ]
  },
  {
   "cell_type": "code",
   "execution_count": 12,
   "id": "ef4830a0",
   "metadata": {},
   "outputs": [
    {
     "name": "stdout",
     "output_type": "stream",
     "text": [
      "Line 1: Overwriting existing content\n",
      "Line 2: Writing again\n",
      "Line 3 :This is Append line\n"
     ]
    }
   ],
   "source": [
    "#File Handling in Python\n",
    "#-- Create the file\n",
    "#with open(\"myfile.txt\", \"w\") as file:\n",
    "    #file.write(\"Line 1: Overwriting existing content\\n\")\n",
    "   # file.write(\"Line 2: Writing again\\n\")\n",
    "#\n",
    "#--     Read the file\n",
    "file =open(\"myfile.txt\",\"r\")\n",
    "content=file.read()\n",
    "print(content)\n",
    "file.close()\n"
   ]
  },
  {
   "cell_type": "code",
   "execution_count": 13,
   "id": "b3a0a994",
   "metadata": {},
   "outputs": [],
   "source": [
    "#Write in file\n",
    "file =open(\"myfile.txt\",\"a\")\n",
    "file.write(\"Line 3 :This is Append line\")\n",
    "file.close()"
   ]
  },
  {
   "cell_type": "code",
   "execution_count": 14,
   "id": "1df0f149",
   "metadata": {},
   "outputs": [
    {
     "name": "stdout",
     "output_type": "stream",
     "text": [
      "✅ JSON File Created Successfully.\n",
      "✅ JSON FILE DATA:\n",
      "{'name': 'Khubaib', 'profession': 'Student', 'city': 'Lahore'}\n"
     ]
    }
   ],
   "source": [
    "import json\n",
    "\n",
    "# Create a dictionary\n",
    "data = {\n",
    "    \"name\": \"Khubaib\",\n",
    "    \"profession\": \"Student\",\n",
    "    \"city\": \"Lahore\"\n",
    "}\n",
    "\n",
    "# Write dictionary to a JSON file\n",
    "with open(\"profile.json\", \"w\") as file:\n",
    "    json.dump(data, file, indent=4)\n",
    "    print(\"✅ JSON File Created Successfully.\")\n",
    "\n",
    "# Read and display the JSON file\n",
    "with open(\"profile.json\", \"r\") as file:\n",
    "    loaded_data = json.load(file)\n",
    "    print(\"✅ JSON FILE DATA:\")\n",
    "    print(loaded_data)\n"
   ]
  },
  {
   "cell_type": "code",
   "execution_count": 15,
   "id": "bd37109e",
   "metadata": {},
   "outputs": [
    {
     "name": "stdout",
     "output_type": "stream",
     "text": [
      "✅ JSON file updated with new key.\n",
      "📄 JSON FILE DATA (After Update):\n",
      "{'name': 'Khubaib', 'profession': 'Student', 'city': 'Mailsi'}\n"
     ]
    }
   ],
   "source": [
    "with open(\"profile.json\", \"r\") as file:\n",
    "    data = json.load(file)\n",
    "\n",
    "# Step 5: Modify the data\n",
    "data[\"city\"] = \"Mailsi\"\n",
    "\n",
    "# Step 6: Save updated data back to the file\n",
    "with open(\"profile.json\", \"w\") as file:\n",
    "    json.dump(data, file, indent=4)\n",
    "\n",
    "print(\"✅ JSON file updated with new key.\")\n",
    "\n",
    "# Step 7: Check final result\n",
    "with open(\"profile.json\", \"r\") as file:\n",
    "    updated = json.load(file)\n",
    "    print(\"📄 JSON FILE DATA (After Update):\")\n",
    "    print(updated)"
   ]
  },
  {
   "cell_type": "code",
   "execution_count": 16,
   "id": "e7aa544f",
   "metadata": {},
   "outputs": [
    {
     "name": "stdout",
     "output_type": "stream",
     "text": [
      "Number1= 2\n",
      "Number2= 6\n",
      "Addion of Two Numnber= 8\n"
     ]
    }
   ],
   "source": [
    "def add(num1,num2):\n",
    "   print(\"Number1=\",num1)\n",
    "   print(\"Number2=\",num2)\n",
    "   addition=num1+num2\n",
    "   return addition\n",
    "\n",
    "res=add(2,6)\n",
    "print(\"Addion of Two Numnber=\",res)\n",
    "\n"
   ]
  },
  {
   "cell_type": "code",
   "execution_count": 17,
   "id": "5e36c9c4",
   "metadata": {},
   "outputs": [
    {
     "name": "stdout",
     "output_type": "stream",
     "text": [
      "1.0\n",
      "Devide Succefully\n",
      "You Cannot Devide By zero\n"
     ]
    }
   ],
   "source": [
    "#Exception Handling Error Handling in pHython\n",
    "try:\n",
    "    num = int(input(\"Enter the Number\"))\n",
    "    print(10/num)\n",
    "    print(\"Devide Succefully\")\n",
    "#except ZeroDivisionError:\n",
    "    print(\"You Cannot Devide By zero\")\n",
    "#except ValueError:\n",
    " #Generic Exception Handling\n",
    "except Exception as e:\n",
    "    print(\"Enter the Correct value\",e)"
   ]
  },
  {
   "cell_type": "code",
   "execution_count": null,
   "id": "4fae345c",
   "metadata": {},
   "outputs": [
    {
     "name": "stdout",
     "output_type": "stream",
     "text": [
      "My name is: Khubaib, and my age is: 21\n",
      "My name is: Ali, and my age is: 19\n"
     ]
    }
   ],
   "source": [
    "# Object Oriented Programming\n",
    "# Class and Object Example\n",
    "\n",
    "class Student:\n",
    "    # Constructor to initialize object\n",
    "    def __init__(self, name, age):\n",
    "        self.name = name\n",
    "        self.age = age\n",
    "    \n",
    "    # Method to display student information\n",
    "    def show_info(self):\n",
    "        print(f\"My name is: {self.name}, and my age is: {self.age}\")\n",
    "\n",
    "# Creating objects of Student class\n",
    "s1 = Student(\"Khubaib\", 21)\n",
    "s2 = Student(\"Ali\", 19)\n",
    "\n",
    "# Calling method to show student information\n",
    "s1.show_info()\n",
    "s2.show_info()\n"
   ]
  },
  {
   "cell_type": "code",
   "execution_count": 26,
   "id": "466dfe71",
   "metadata": {},
   "outputs": [
    {
     "name": "stdout",
     "output_type": "stream",
     "text": [
      "Value of a+b= 1020\n"
     ]
    }
   ],
   "source": [
    "a=\"10\"\n",
    "b=\"20\"\n",
    "s=a+b\n",
    "print(\"Value of a+b=\",s)"
   ]
  },
  {
   "cell_type": "code",
   "execution_count": 27,
   "id": "e2c78857",
   "metadata": {},
   "outputs": [
    {
     "data": {
      "text/plain": [
       "13"
      ]
     },
     "execution_count": 27,
     "metadata": {},
     "output_type": "execute_result"
    }
   ],
   "source": [
    "4+3**2"
   ]
  },
  {
   "cell_type": "code",
   "execution_count": 28,
   "id": "8beb886c",
   "metadata": {},
   "outputs": [
    {
     "data": {
      "text/plain": [
       "49"
      ]
     },
     "execution_count": 28,
     "metadata": {},
     "output_type": "execute_result"
    }
   ],
   "source": [
    "(4+3)**2"
   ]
  },
  {
   "cell_type": "code",
   "execution_count": 38,
   "id": "1bc50667",
   "metadata": {},
   "outputs": [
    {
     "data": {
      "text/plain": [
       "'Python is eassy'"
      ]
     },
     "execution_count": 38,
     "metadata": {},
     "output_type": "execute_result"
    }
   ],
   "source": [
    "x = \"Python\"\n",
    "y = \" is eassy\"\n",
    "x +y\n"
   ]
  },
  {
   "cell_type": "code",
   "execution_count": null,
   "id": "a409354d",
   "metadata": {},
   "outputs": [
    {
     "name": "stdout",
     "output_type": "stream",
     "text": [
      "Name: Muhammad Khuabib\n"
     ]
    }
   ],
   "source": [
    "First_Name =\"Muhammad\"\n",
    "Last_Name = \" Khuabib\"\n",
    "Full_Name = First_Name+Last_Name\n",
    "print(\"Name:\",Full_Name)\n"
   ]
  },
  {
   "cell_type": "code",
   "execution_count": 45,
   "id": "3ff9e171",
   "metadata": {},
   "outputs": [
    {
     "data": {
      "text/plain": [
       "('Muhammad Khubaib', 786)"
      ]
     },
     "execution_count": 45,
     "metadata": {},
     "output_type": "execute_result"
    }
   ],
   "source": [
    "str1 = \"Muhammad Khubaib\"\n",
    "str2 = 786\n",
    "str1,str2"
   ]
  },
  {
   "cell_type": "code",
   "execution_count": 2,
   "id": "32dd5f27",
   "metadata": {},
   "outputs": [
    {
     "name": "stdout",
     "output_type": "stream",
     "text": [
      "MIXED_LIST [18, 'Muhammad Asif', 'spring']\n",
      "Mixed_List [18, 'Muhammad Khubaib', 'spring']\n"
     ]
    }
   ],
   "source": [
    "#list\n",
    "mixed_list = [18,\"Muhammad Asif\",\"spring\"]\n",
    "print(\"MIXED_LIST\",mixed_list)\n",
    "mixed_list[1]= \"Muhammad Khubaib\"\n",
    "print(\"Mixed_List\",mixed_list)\n"
   ]
  },
  {
   "cell_type": "code",
   "execution_count": null,
   "id": "5232bc45",
   "metadata": {},
   "outputs": [
    {
     "name": "stdout",
     "output_type": "stream",
     "text": [
      "ID\tName\t\t\tPhone Number\n",
      "--------------------------------------------------\n",
      "17\tMuhmmad Khubaib     \t03037870373\n",
      "18\tMuhmmad Wahab       \t030378705673\n",
      "19\tMuhmmad Fahad       \t03093883\n"
     ]
    }
   ],
   "source": [
    "Multiple_list = [\n",
    "    [17, \"Muhmmad Khubaib\", \"03037870373\"],\n",
    "    [18, \"Muhmmad Wahab\", \"030378705673\"],\n",
    "    [19, \"Muhmmad Fahad\", \"03093883\"]\n",
    "]\n",
    "\n",
    "print(\"ID\\tName\\t\\t\\tPhone Number\")\n",
    "print(\"--------------------------------------------------\")\n",
    "\n",
    "for person in Multiple_list:\n",
    "    print(f\"{person[0]}\\t{person[1]:<20}\\t{person[2]}\")\n",
    "\n",
    "    print(Multiple_list[1])\n",
    "    print(Multiple_list[1][1])\n",
    "    print(Multiple_list[1][1][16])\n",
    "\n"
   ]
  }
 ],
 "metadata": {
  "kernelspec": {
   "display_name": "Khubaib_env",
   "language": "python",
   "name": "python3"
  },
  "language_info": {
   "codemirror_mode": {
    "name": "ipython",
    "version": 3
   },
   "file_extension": ".py",
   "mimetype": "text/x-python",
   "name": "python",
   "nbconvert_exporter": "python",
   "pygments_lexer": "ipython3",
   "version": "3.13.3"
  }
 },
 "nbformat": 4,
 "nbformat_minor": 5
}
