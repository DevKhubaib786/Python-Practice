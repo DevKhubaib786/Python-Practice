{
 "cells": [
  {
   "cell_type": "code",
   "execution_count": 3,
   "id": "49c22487",
   "metadata": {},
   "outputs": [
    {
     "name": "stdout",
     "output_type": "stream",
     "text": [
      "Reversed String: biabuhK\n",
      "Number of Vowels: 3\n"
     ]
    }
   ],
   "source": [
    "user_input = input(\"Enter a String: \")\n",
    "reversed_string = user_input[::-1]\n",
    "vowels = \"aeiouAEIOU\"\n",
    "vowels_count = 0\n",
    "\n",
    "for char in user_input:\n",
    "    if char in vowels:\n",
    "        vowels_count += 1\n",
    "\n",
    "print(\"Reversed String:\", reversed_string)\n",
    "print(\"Number of Vowels:\", vowels_count)\n"
   ]
  },
  {
   "cell_type": "code",
   "execution_count": 1,
   "id": "68ebddab",
   "metadata": {},
   "outputs": [
    {
     "name": "stdout",
     "output_type": "stream",
     "text": [
      "Number: 34\n",
      "Even Number\n"
     ]
    }
   ],
   "source": [
    "Enter_Number = int(input(\"Enter a Number: \"))\n",
    "print(\"Number:\", Enter_Number)\n",
    "\n",
    "if Enter_Number % 2 == 0:\n",
    "    print(\"Even Number\")\n",
    "else:\n",
    "    print(\"Odd Number\")\n"
   ]
  }
 ],
 "metadata": {
  "kernelspec": {
   "display_name": "Python 3",
   "language": "python",
   "name": "python3"
  },
  "language_info": {
   "codemirror_mode": {
    "name": "ipython",
    "version": 3
   },
   "file_extension": ".py",
   "mimetype": "text/x-python",
   "name": "python",
   "nbconvert_exporter": "python",
   "pygments_lexer": "ipython3",
   "version": "3.13.3"
  }
 },
 "nbformat": 4,
 "nbformat_minor": 5
}
